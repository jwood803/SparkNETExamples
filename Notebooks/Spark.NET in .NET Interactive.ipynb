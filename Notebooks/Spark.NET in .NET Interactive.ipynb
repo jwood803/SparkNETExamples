{
 "cells": [
  {
   "cell_type": "code",
   "execution_count": 1,
   "metadata": {},
   "source": [
    "#r \"nuget:Microsoft.Spark,0.12\""
   ],
   "outputs": [
    {
     "output_type": "execute_result",
     "data": {
      "text/plain": "Installed package Microsoft.Spark version 0.12.0"
     },
     "execution_count": 1,
     "metadata": {}
    }
   ]
  },
  {
   "cell_type": "code",
   "execution_count": 1,
   "metadata": {},
   "source": [
    "using Microsoft.Spark.Sql;"
   ],
   "outputs": []
  },
  {
   "cell_type": "code",
   "execution_count": 1,
   "metadata": {},
   "source": [
    "var session = SparkSession.Builder().AppName(\"housing\").GetOrCreate();"
   ],
   "outputs": [
    {
     "output_type": "execute_result",
     "data": {
      "text/plain": "[2020-11-11T17:39:51.8724587Z] [DESKTOP-TDTLQ4B] [Info] [ConfigurationService] 'DOTNETBACKEND_PORT' environment variable is not set.\r\n"
     },
     "execution_count": 1,
     "metadata": {}
    },
    {
     "output_type": "execute_result",
     "data": {
      "text/plain": "[2020-11-11T17:39:51.8762070Z] [DESKTOP-TDTLQ4B] [Info] [ConfigurationService] Using port 5567 for connection.\r\n"
     },
     "execution_count": 1,
     "metadata": {}
    },
    {
     "output_type": "execute_result",
     "data": {
      "text/plain": "[2020-11-11T17:39:51.8765822Z] [DESKTOP-TDTLQ4B] [Info] [JvmBridge] JvMBridge port is 5567\r\n"
     },
     "execution_count": 1,
     "metadata": {}
    }
   ]
  },
  {
   "cell_type": "code",
   "execution_count": 1,
   "metadata": {},
   "source": [
    "var housing = session.Read()\n",
    "    .Option(\"header\", true)\n",
    "    .Option(\"inferSchema\", true)\n",
    "    .Option(\"delimiter\", \",\")\n",
    "    .Csv(\"C:\\\\Users\\\\chron\\\\Documents\\\\Code\\\\GitHub\\\\SparkNETExamples\\\\Data\\\\housing.csv\");"
   ],
   "outputs": []
  },
  {
   "cell_type": "code",
   "execution_count": 1,
   "metadata": {},
   "source": [
    "housing.Show()"
   ],
   "outputs": [
    {
     "output_type": "execute_result",
     "data": {
      "text/plain": "+---------+--------+------------------+-----------+--------------+----------+----------+-------------+------------------+---------------+\n|longitude|latitude|housing_median_age|total_rooms|total_bedrooms|population|households|median_income|median_house_value|ocean_proximity|\n+---------+--------+------------------+-----------+--------------+----------+----------+-------------+------------------+---------------+\n|  -122.23|   37.88|              41.0|      880.0|         129.0|     322.0|     126.0|       8.3252|          452600.0|       NEAR BAY|\n|  -122.22|   37.86|              21.0|     7099.0|        1106.0|    2401.0|    1138.0|       8.3014|          358500.0|       NEAR BAY|\n|  -122.24|   37.85|              52.0|     1467.0|         190.0|     496.0|     177.0|       7.2574|          352100.0|       NEAR BAY|\n|  -122.25|   37.85|              52.0|     1274.0|         235.0|     558.0|     219.0|       5.6431|          341300.0|       NEAR BAY|\n|  -122.25|   37.85|              52.0|     1627.0|         280.0|     565.0|     259.0|       3.8462|          342200.0|       NEAR BAY|\n|  -122.25|   37.85|              52.0|      919.0|         213.0|     413.0|     193.0|       4.0368|          269700.0|       NEAR BAY|\n|  -122.25|   37.84|              52.0|     2535.0|         489.0|    1094.0|     514.0|       3.6591|          299200.0|       NEAR BAY|\n|  -122.25|   37.84|              52.0|     3104.0|         687.0|    1157.0|     647.0|         3.12|          241400.0|       NEAR BAY|\n|  -122.26|   37.84|              42.0|     2555.0|         665.0|    1206.0|     595.0|       2.0804|          226700.0|       NEAR BAY|\n|  -122.25|   37.84|              52.0|     3549.0|         707.0|    1551.0|     714.0|       3.6912|          261100.0|       NEAR BAY|\n|  -122.26|   37.85|              52.0|     2202.0|         434.0|     910.0|     402.0|       3.2031|          281500.0|       NEAR BAY|\n|  -122.26|   37.85|              52.0|     3503.0|         752.0|    1504.0|     734.0|       3.2705|          241800.0|       NEAR BAY|\n|  -122.26|   37.85|              52.0|     2491.0|         474.0|    1098.0|     468.0|        3.075|          213500.0|       NEAR BAY|\n|  -122.26|   37.84|              52.0|      696.0|         191.0|     345.0|     174.0|       2.6736|          191300.0|       NEAR BAY|\n|  -122.26|   37.85|              52.0|     2643.0|         626.0|    1212.0|     620.0|       1.9167|          159200.0|       NEAR BAY|\n|  -122.26|   37.85|              50.0|     1120.0|         283.0|     697.0|     264.0|        2.125|          140000.0|       NEAR BAY|\n|  -122.27|   37.85|              52.0|     1966.0|         347.0|     793.0|     331.0|        2.775|          152500.0|       NEAR BAY|\n|  -122.27|   37.85|              52.0|     1228.0|         293.0|     648.0|     303.0|       2.1202|          155500.0|       NEAR BAY|\n|  -122.26|   37.84|              50.0|     2239.0|         455.0|     990.0|     419.0|       1.9911|          158700.0|       NEAR BAY|\n|  -122.27|   37.84|              52.0|     1503.0|         298.0|     690.0|     275.0|       2.6033|          162900.0|       NEAR BAY|\n+---------+--------+------------------+-----------+--------------+----------+----------+-------------+------------------+---------------+\nonly showing top 20 rows\n\r\n"
     },
     "execution_count": 1,
     "metadata": {}
    }
   ]
  },
  {
   "cell_type": "code",
   "execution_count": 1,
   "metadata": {},
   "source": [
    "housing.Schema()"
   ],
   "outputs": [
    {
     "output_type": "execute_result",
     "data": {
      "text/html": "<table><thead><tr><th>Fields</th><th>SimpleString</th><th>TypeName</th><th>Json</th></tr></thead><tbody><tr><td><div class=\"dni-plaintext\">[ StructField(longitude,double), StructField(latitude,double), StructField(housing_median_age,double), StructField(total_rooms,double), StructField(total_bedrooms,double), StructField(population,double), StructField(households,double), StructField(median_income,double), StructField(median_house_value,double), StructField(ocean_proximity,string) ]</div></td><td><div class=\"dni-plaintext\">struct&lt;longitude:double,latitude:double,housing_median_age:double,total_rooms:double,total_bedrooms:double,population:double,households:double,median_income:double,median_house_value:double,ocean_proximity:string&gt;</div></td><td><div class=\"dni-plaintext\">struct</div></td><td><div class=\"dni-plaintext\">{&quot;fields&quot;:[{&quot;metadata&quot;:{},&quot;name&quot;:&quot;longitude&quot;,&quot;nullable&quot;:true,&quot;type&quot;:&quot;double&quot;},{&quot;metadata&quot;:{},&quot;name&quot;:&quot;latitude&quot;,&quot;nullable&quot;:true,&quot;type&quot;:&quot;double&quot;},{&quot;metadata&quot;:{},&quot;name&quot;:&quot;housing_median_age&quot;,&quot;nullable&quot;:true,&quot;type&quot;:&quot;double&quot;},{&quot;metadata&quot;:{},&quot;name&quot;:&quot;total_rooms&quot;,&quot;nullable&quot;:true,&quot;type&quot;:&quot;double&quot;},{&quot;metadata&quot;:{},&quot;name&quot;:&quot;total_bedrooms&quot;,&quot;nullable&quot;:true,&quot;type&quot;:&quot;double&quot;},{&quot;metadata&quot;:{},&quot;name&quot;:&quot;population&quot;,&quot;nullable&quot;:true,&quot;type&quot;:&quot;double&quot;},{&quot;metadata&quot;:{},&quot;name&quot;:&quot;households&quot;,&quot;nullable&quot;:true,&quot;type&quot;:&quot;double&quot;},{&quot;metadata&quot;:{},&quot;name&quot;:&quot;median_income&quot;,&quot;nullable&quot;:true,&quot;type&quot;:&quot;double&quot;},{&quot;metadata&quot;:{},&quot;name&quot;:&quot;median_house_value&quot;,&quot;nullable&quot;:true,&quot;type&quot;:&quot;double&quot;},{&quot;metadata&quot;:{},&quot;name&quot;:&quot;ocean_proximity&quot;,&quot;nullable&quot;:true,&quot;type&quot;:&quot;string&quot;}],&quot;type&quot;:&quot;struct&quot;}</div></td></tr></tbody></table>"
     },
     "execution_count": 1,
     "metadata": {}
    }
   ]
  },
  {
   "cell_type": "code",
   "execution_count": 1,
   "metadata": {},
   "source": [
    "housing.CreateOrReplaceTempView(\"houseData\");"
   ],
   "outputs": []
  },
  {
   "cell_type": "code",
   "execution_count": 1,
   "metadata": {},
   "source": [
    "session.Sql(\"select * from houseData limit 10\").Show()"
   ],
   "outputs": [
    {
     "output_type": "execute_result",
     "data": {
      "text/plain": "+---------+--------+------------------+-----------+--------------+----------+----------+-------------+------------------+---------------+\n|longitude|latitude|housing_median_age|total_rooms|total_bedrooms|population|households|median_income|median_house_value|ocean_proximity|\n+---------+--------+------------------+-----------+--------------+----------+----------+-------------+------------------+---------------+\n|  -122.23|   37.88|              41.0|      880.0|         129.0|     322.0|     126.0|       8.3252|          452600.0|       NEAR BAY|\n|  -122.22|   37.86|              21.0|     7099.0|        1106.0|    2401.0|    1138.0|       8.3014|          358500.0|       NEAR BAY|\n|  -122.24|   37.85|              52.0|     1467.0|         190.0|     496.0|     177.0|       7.2574|          352100.0|       NEAR BAY|\n|  -122.25|   37.85|              52.0|     1274.0|         235.0|     558.0|     219.0|       5.6431|          341300.0|       NEAR BAY|\n|  -122.25|   37.85|              52.0|     1627.0|         280.0|     565.0|     259.0|       3.8462|          342200.0|       NEAR BAY|\n|  -122.25|   37.85|              52.0|      919.0|         213.0|     413.0|     193.0|       4.0368|          269700.0|       NEAR BAY|\n|  -122.25|   37.84|              52.0|     2535.0|         489.0|    1094.0|     514.0|       3.6591|          299200.0|       NEAR BAY|\n|  -122.25|   37.84|              52.0|     3104.0|         687.0|    1157.0|     647.0|         3.12|          241400.0|       NEAR BAY|\n|  -122.26|   37.84|              42.0|     2555.0|         665.0|    1206.0|     595.0|       2.0804|          226700.0|       NEAR BAY|\n|  -122.25|   37.84|              52.0|     3549.0|         707.0|    1551.0|     714.0|       3.6912|          261100.0|       NEAR BAY|\n+---------+--------+------------------+-----------+--------------+----------+----------+-------------+------------------+---------------+\n\r\n"
     },
     "execution_count": 1,
     "metadata": {}
    }
   ]
  },
  {
   "cell_type": "code",
   "execution_count": 1,
   "metadata": {},
   "source": [
    "session.Sql(\"select ocean_proximity, count(*) from houseData group by ocean_proximity\").Show()"
   ],
   "outputs": [
    {
     "output_type": "execute_result",
     "data": {
      "text/plain": "+---------------+--------+\n|ocean_proximity|count(1)|\n+---------------+--------+\n|         ISLAND|       5|\n|     NEAR OCEAN|    2658|\n|       NEAR BAY|    2290|\n|      <1H OCEAN|    9136|\n|         INLAND|    6551|\n+---------------+--------+\n\r\n"
     },
     "execution_count": 1,
     "metadata": {}
    }
   ]
  }
 ],
 "metadata": {
  "kernelspec": {
   "display_name": ".NET (C#)",
   "language": "C#",
   "name": ".net-csharp"
  },
  "language_info": {
   "file_extension": ".cs",
   "mimetype": "text/x-csharp",
   "name": "C#",
   "pygments_lexer": "csharp",
   "version": "8.0"
  }
 },
 "nbformat": 4,
 "nbformat_minor": 4
}